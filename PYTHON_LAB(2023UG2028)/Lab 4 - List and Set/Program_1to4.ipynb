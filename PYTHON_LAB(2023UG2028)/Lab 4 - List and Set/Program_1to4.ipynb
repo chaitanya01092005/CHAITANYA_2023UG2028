{
 "cells": [
  {
   "cell_type": "code",
   "execution_count": null,
   "id": "883f9d27-7651-4147-a6b2-383aef5208bf",
   "metadata": {},
   "outputs": [
    {
     "name": "stdout",
     "output_type": "stream",
     "text": [
      "Enter a sentence :- The racecar was parked next to a kayak by the noon time display\n"
     ]
    },
    {
     "name": "stdout",
     "output_type": "stream",
     "text": [
      "4\n"
     ]
    }
   ],
   "source": [
    "#Program 1 \n",
    "#Find palindrome words in string\n",
    "def checkpali( x ) :\n",
    "    if x == x[::-1] :\n",
    "        return True\n",
    "    else :\n",
    "        return False\n",
    "\n",
    "st = input(\"Enter a sentence :-\")\n",
    "st = st.strip();\n",
    "ll = st.split(\" \");\n",
    "count = 0;\n",
    "for a in ll :\n",
    "   # print(a)\n",
    "    if checkpali(a):\n",
    "        count += 1\n",
    "\n",
    "print(count)"
   ]
  },
  {
   "cell_type": "code",
   "execution_count": 28,
   "id": "7b6bc573-6acd-487d-a6b2-752baafd1083",
   "metadata": {},
   "outputs": [
    {
     "name": "stdout",
     "output_type": "stream",
     "text": [
      "Enter numbers separated by spaces:  1 1 1 2 3 4 5 6 7 7 7 3 2 9 9 3 3 2\n"
     ]
    },
    {
     "name": "stdout",
     "output_type": "stream",
     "text": [
      "List: [1, 1, 1, 2, 2, 2, 3, 3, 3, 3, 4, 5, 6, 7, 7, 7, 9, 9]\n",
      "Mean: 4.166666666666667\n",
      "Median: 3.0\n",
      "Mode: 3\n"
     ]
    }
   ],
   "source": [
    "#Program 2 \n",
    "#Find Mean , Mode and median of the list\n",
    "str_in = input(\"Enter numbers separated by spaces: \")\n",
    "#using list comprehension\n",
    "nums = [int(x) for x in str_in.split()]\n",
    "\n",
    "sum = 0;\n",
    "Map = {}\n",
    "nums.sort()\n",
    "n = len(nums)\n",
    "for a in nums :\n",
    "    sum += a\n",
    "    if a in Map :\n",
    "        Map[a] += 1\n",
    "    else :\n",
    "        Map[a] = 1\n",
    "mean = sum/n\n",
    "\n",
    "median = 0\n",
    "if n%2 == 0:\n",
    "    median = (nums[(int)(n/2)] + nums[(int)(n/2) - 1])/2\n",
    "if n%2 != 0 :\n",
    "    median = nums[(int)((n-1)/2)]\n",
    "\n",
    "mode = 0\n",
    "maxi = -1;\n",
    "for a,b in Map.items() :\n",
    "    if maxi < b:\n",
    "        maxi = b\n",
    "        mode = a\n",
    "print(f\"List: {nums}\")\n",
    "print(f\"Mean: {mean}\")\n",
    "print(f\"Median: {median}\")\n",
    "print(f\"Mode: {mode}\")"
   ]
  },
  {
   "cell_type": "code",
   "execution_count": 48,
   "id": "af76be45-b2df-4df1-a9a5-22dc90c9568a",
   "metadata": {},
   "outputs": [
    {
     "name": "stdout",
     "output_type": "stream",
     "text": [
      "Enter number of courses :- 4\n",
      "Enter courses Code in a single line :-  CS1001 CS2002 MA3003 HS5005\n",
      "Enter courses names in single line :-  Python COA Maths English \n"
     ]
    },
    {
     "name": "stdout",
     "output_type": "stream",
     "text": [
      "['CS1001:Python', 'CS2002:COA', 'MA3003:Maths', 'HS5005:English']\n"
     ]
    }
   ],
   "source": [
    "# Program 3\n",
    "n= int(input(\"Enter number of courses :-\"))\n",
    "code = input(\"Enter courses Code in a single line :- \")\n",
    "l1 = code.split(\" \")\n",
    "course = input(\"Enter courses names in single line :- \")\n",
    "l2 = course.split(\" \")\n",
    "l3 = []\n",
    "for i in range(0,n,1) :\n",
    "    l3.append(f\"{l1[i]}:{l2[i]}\")\n",
    "\n",
    "print(l3)\n"
   ]
  },
  {
   "cell_type": "code",
   "execution_count": 54,
   "id": "3fedd404-5661-413d-bd3f-47ae8011dfe6",
   "metadata": {},
   "outputs": [
    {
     "name": "stdout",
     "output_type": "stream",
     "text": [
      "All Artists: {'Mikhail Baryshnikov', 'Sofia Vergara', 'Martha Graham', 'Dolly Parton', 'Ella Fitzgerald', 'Beyoncé', 'Michael Jackson', 'Freddie Mercury'}\n",
      "Allrounders (Singers who are also Dancers): {'Beyoncé', 'Michael Jackson'}\n",
      "Dancers but not Singers: {'Mikhail Baryshnikov', 'Sofia Vergara', 'Martha Graham'}\n",
      "Singers but not Dancers: {'Dolly Parton', 'Ella Fitzgerald', 'Freddie Mercury'}\n",
      "Dancers but not Singers cum Singers but not Dancers: {'Dolly Parton', 'Ella Fitzgerald', 'Mikhail Baryshnikov', 'Sofia Vergara', 'Martha Graham', 'Freddie Mercury'}\n"
     ]
    }
   ],
   "source": [
    "#Program 4\n",
    "singers = {\"Michael Jackson\", \"Freddie Mercury\", \"Beyoncé\", \"Dolly Parton\", \"Ella Fitzgerald\"}\n",
    "dancers = {\"Mikhail Baryshnikov\", \"Martha Graham\", \"Michael Jackson\", \"Beyoncé\", \"Sofia Vergara\"}\n",
    "\n",
    "a = singers.union(dancers)\n",
    "b = singers.intersection(dancers)\n",
    "c = dancers.difference(singers)\n",
    "d = singers.difference(dancers)\n",
    "e = c.union(d)\n",
    "\n",
    "# Print the results\n",
    "print(\"All Artists:\", a)\n",
    "print(\"Allrounders (Singers who are also Dancers):\", b)\n",
    "print(\"Dancers but not Singers:\", c)\n",
    "print(\"Singers but not Dancers:\", d)\n",
    "print(\"Dancers but not Singers cum Singers but not Dancers:\", e)"
   ]
  },
  {
   "cell_type": "code",
   "execution_count": null,
   "id": "a075da1d-be88-4437-909c-6a0dda7b0d87",
   "metadata": {},
   "outputs": [],
   "source": []
  }
 ],
 "metadata": {
  "kernelspec": {
   "display_name": "Python 3 (ipykernel)",
   "language": "python",
   "name": "python3"
  },
  "language_info": {
   "codemirror_mode": {
    "name": "ipython",
    "version": 3
   },
   "file_extension": ".py",
   "mimetype": "text/x-python",
   "name": "python",
   "nbconvert_exporter": "python",
   "pygments_lexer": "ipython3",
   "version": "3.12.4"
  }
 },
 "nbformat": 4,
 "nbformat_minor": 5
}
