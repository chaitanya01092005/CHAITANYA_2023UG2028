{
 "cells": [
  {
   "cell_type": "code",
   "execution_count": 26,
   "id": "d6291942-5fd9-46f0-a890-9a83406e4179",
   "metadata": {},
   "outputs": [
    {
     "name": "stdout",
     "output_type": "stream",
     "text": [
      "Enter a number :  5\n"
     ]
    },
    {
     "name": "stdout",
     "output_type": "stream",
     "text": [
      "Number      Square\n",
      "1          1\n",
      "2          4\n",
      "3          9\n",
      "4          16\n",
      "5          25\n"
     ]
    }
   ],
   "source": [
    "#Program 1\n",
    "n = int(input(\"Enter a number : \"))\n",
    "print(\"Number      Square\")\n",
    "i = 1\n",
    "while i <= n :\n",
    "    print(f\"{i}          {i*i}\")\n",
    "    i = i +1\n"
   ]
  },
  {
   "cell_type": "code",
   "execution_count": 39,
   "id": "91a16e55-b712-4587-9bd8-b8d59f1ce8cb",
   "metadata": {},
   "outputs": [
    {
     "name": "stdout",
     "output_type": "stream",
     "text": [
      "Enter a number :  5434\n"
     ]
    },
    {
     "name": "stdout",
     "output_type": "stream",
     "text": [
      "Sum of digits of number 5434 is : 16\n"
     ]
    }
   ],
   "source": [
    "#Program 2\n",
    "n = int(input(\"Enter a number : \"))\n",
    "sum = 0\n",
    "N = n\n",
    "while n>0:\n",
    "    sum = sum + (n%10)\n",
    "    n = (int)(n/10)\n",
    "\n",
    "print(f\"Sum of digits of number {N} is : {sum}\")"
   ]
  },
  {
   "cell_type": "code",
   "execution_count": 44,
   "id": "f244c421-f69f-4df8-b4c7-c155547a4629",
   "metadata": {},
   "outputs": [
    {
     "name": "stdout",
     "output_type": "stream",
     "text": [
      "Enter a number :  10\n"
     ]
    },
    {
     "name": "stdout",
     "output_type": "stream",
     "text": [
      "10 terms of fibonacci series are : -\n",
      "1\n",
      "1\n",
      "2\n",
      "3\n",
      "5\n",
      "8\n",
      "13\n",
      "21\n",
      "34\n",
      "55\n"
     ]
    }
   ],
   "source": [
    "#Program 3\n",
    "#Fibonacci Series\n",
    "n = int(input(\"Enter a number : \"))\n",
    "print(f\"{n} terms of fibonacci series are : -\")\n",
    "a = 1\n",
    "b = 1\n",
    "n = n - 2\n",
    "print(a)\n",
    "print(b)\n",
    "while n != 0 :\n",
    "    sum = a + b;\n",
    "    print(sum)\n",
    "    n = n - 1\n",
    "    b = a\n",
    "    a = sum"
   ]
  },
  {
   "cell_type": "code",
   "execution_count": 55,
   "id": "babd240d-b681-474d-a7bc-f1f93b8865f8",
   "metadata": {},
   "outputs": [
    {
     "name": "stdout",
     "output_type": "stream",
     "text": [
      "Enter a number :  5\n",
      "Enter limit :  10\n"
     ]
    },
    {
     "name": "stdout",
     "output_type": "stream",
     "text": [
      "Multiplication Table of 5 is :-\n",
      "5 * 1 = 5 \n",
      "5 * 2 = 10 \n",
      "5 * 3 = 15 \n",
      "5 * 4 = 20 \n",
      "5 * 5 = 25 \n",
      "5 * 6 = 30 \n",
      "5 * 7 = 35 \n",
      "5 * 8 = 40 \n",
      "5 * 9 = 45 \n",
      "5 * 10 = 50 \n"
     ]
    }
   ],
   "source": [
    "#Program 4\n",
    "n = int(input(\"Enter a number : \"))\n",
    "limit = int(input(\"Enter limit : \"))\n",
    "print(f\"Multiplication Table of {n} is :-\")\n",
    "for i in range (1,limit + 1,1):\n",
    "    print(f\"{n} * {i} = {n*i} \")"
   ]
  },
  {
   "cell_type": "code",
   "execution_count": 1,
   "id": "345cb689-77f0-4f50-831d-f409570852a8",
   "metadata": {},
   "outputs": [
    {
     "name": "stdout",
     "output_type": "stream",
     "text": [
      "True\n"
     ]
    }
   ],
   "source": [
    "#Program 5\n",
    "st = input(\"Enter a string : \")\n",
    "c = 0\n",
    "arr = ['!','@','#','$','%','^','&','*','(',')','-','+','+','_',';',':','<','>','?','/']\n",
    "for i in st:\n",
    "    if i in arr:\n",
    "        c = 1\n",
    "        break\n",
    "else:\n",
    "    print(\"True\")   \n",
    "if c == 1:\n",
    "    print(\"False\")"
   ]
  },
  {
   "cell_type": "code",
   "execution_count": 2,
   "id": "fb37669f-4f49-4935-89e1-49f54d644f75",
   "metadata": {},
   "outputs": [
    {
     "name": "stdout",
     "output_type": "stream",
     "text": [
      "u count is = 2\n",
      "i count is = 1\n",
      "a count is = 2\n",
      "y count is = 3\n"
     ]
    }
   ],
   "source": [
    "#Program 6\n",
    "st = input(\"Enter a string : \")\n",
    "l = len(st)\n",
    "List = []\n",
    "for i in st :\n",
    "    cnt = 0\n",
    "    if not i in List:\n",
    "        for j in st:\n",
    "            if i == j:\n",
    "                cnt = cnt + 1\n",
    "        print(f\"{i} count is = {cnt}\")\n",
    "    cnt = 0\n",
    "    List.append(i)"
   ]
  }
 ],
 "metadata": {
  "kernelspec": {
   "display_name": "Python 3 (ipykernel)",
   "language": "python",
   "name": "python3"
  },
  "language_info": {
   "codemirror_mode": {
    "name": "ipython",
    "version": 3
   },
   "file_extension": ".py",
   "mimetype": "text/x-python",
   "name": "python",
   "nbconvert_exporter": "python",
   "pygments_lexer": "ipython3",
   "version": "3.12.4"
  }
 },
 "nbformat": 4,
 "nbformat_minor": 5
}
