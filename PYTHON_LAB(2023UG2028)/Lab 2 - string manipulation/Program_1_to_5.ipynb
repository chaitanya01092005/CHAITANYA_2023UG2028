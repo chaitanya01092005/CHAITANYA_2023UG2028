{
 "cells": [
  {
   "cell_type": "code",
   "execution_count": 10,
   "id": "bc39780c-9ad0-4caf-93ff-a1591c38fd34",
   "metadata": {},
   "outputs": [
    {
     "name": "stdout",
     "output_type": "stream",
     "text": [
      "mAHA bHARAT\n",
      "Bharat\n",
      "BharatBharatBharat\n",
      "Mera Bharat\n",
      "Mera Bharat Mahan \n"
     ]
    }
   ],
   "source": [
    "#Program 1 \n",
    "S1 = \"Maha Bharat\"\n",
    "print(S1.swapcase()) #part a\n",
    "s1 = S1[5:]\n",
    "print(s1) #part b\n",
    "print(s1*3) #part c\n",
    "s2 = \"Mera \"\n",
    "print(s2 + s1) #part d\n",
    "s3 = 'Mahan '\n",
    "print(s2 +s1+\" \"+ s3) #part e"
   ]
  },
  {
   "cell_type": "code",
   "execution_count": 22,
   "id": "dfb3ae0f-9b22-4398-b3cf-d8904527f462",
   "metadata": {},
   "outputs": [
    {
     "name": "stdout",
     "output_type": "stream",
     "text": [
      "17\n",
      "14\n",
      "3\n",
      "Ta Ta Black Sheep\n"
     ]
    }
   ],
   "source": [
    "#Program 2\n",
    "S = 'Ba Ba Black Sheep'\n",
    "n = len(S)\n",
    "print(n) #part a\n",
    "print(S.find('e')) #part b\n",
    "print(S.count('a')) #part c\n",
    "print(S.replace('B','T',2)) #part d"
   ]
  },
  {
   "cell_type": "code",
   "execution_count": 2,
   "id": "c4469e85-b84c-43f3-81a3-0131b935f95f",
   "metadata": {},
   "outputs": [
    {
     "name": "stdout",
     "output_type": "stream",
     "text": [
      "aabbaa  is a palindrome string\n"
     ]
    }
   ],
   "source": [
    "#Program 3\n",
    "st = input(\"Enter a String : \")\n",
    "if st == st[::-1] :\n",
    "    print(st+ \" is a palindrome string\")\n",
    "else :\n",
    "    print(st+\" is not a palindrome string\")"
   ]
  },
  {
   "cell_type": "code",
   "execution_count": 4,
   "id": "150fe8fd-1261-4993-9eda-c261f9f3fde3",
   "metadata": {},
   "outputs": [
    {
     "name": "stdout",
     "output_type": "stream",
     "text": [
      "Name : Manas\n",
      "Roll No. : 4556\n",
      "Marks : 87\n",
      "Grade : 9\n",
      "Remark : VERY GOOD\n"
     ]
    }
   ],
   "source": [
    "#Program 4\n",
    "name = input(\"Enter Student's name : \")\n",
    "rollNo = int(input(\"Enter Student's Roll No. : \"))\n",
    "marks = int(input(\"Enter Student's Marks : \"))\n",
    "if marks>100:\n",
    "    print(\"You have entered marks more than 100\")\n",
    "else :\n",
    "    grade = 0\n",
    "    remark = ''\n",
    "    if marks>=90:\n",
    "        grade = 10\n",
    "        remark = 'OUTSTANDING'\n",
    "    elif marks>=80 and marks<90:\n",
    "        grade = 9\n",
    "        remark = 'VERY GOOD'\n",
    "    elif marks>=70 and marks<80:\n",
    "        grade = 8\n",
    "        remark = 'GOOD'\n",
    "    elif marks>=60 and marks<70:\n",
    "        grade = 7\n",
    "        remark = 'AVERAGE'\n",
    "    elif marks>=50 and marks<60:\n",
    "        grade = 6\n",
    "        remark = 'PASS'\n",
    "    else :\n",
    "        grade = 0\n",
    "        remark = 'FAIL'\n",
    "\n",
    "print(\"Name : \"+name)\n",
    "print(f\"Roll No. : {rollNo}\")\n",
    "print(f\"Marks : {marks}\")\n",
    "print(f\"Grade : {grade}\")\n",
    "print(\"Remark : \"+remark)"
   ]
  },
  {
   "cell_type": "code",
   "execution_count": 5,
   "id": "6ec827bf-2347-4acf-82fb-5ea6cb1c2a0c",
   "metadata": {},
   "outputs": [
    {
     "name": "stdout",
     "output_type": "stream",
     "text": [
      "Roots are : -2.0 , -2.0\n"
     ]
    }
   ],
   "source": [
    "#Program 5\n",
    "#find roots of a quadratic equation\n",
    "import math \n",
    "a = int(input(\"Enter a :\"))\n",
    "b = int(input(\"Enter b :\"))\n",
    "c = int(input(\"Enter c :\"))\n",
    "\n",
    "d = (b*b) - (4*a*c)\n",
    "if d == 0:\n",
    "    r2 = r1 = -(b/(2*a))\n",
    "    print(f\"Roots are : {r1} , {r2}\")\n",
    "\n",
    "elif d > 0 :\n",
    "    r1 = (-b + math.sqrt(d))/(2*a)\n",
    "    r2 = (-b - math.sqrt(d))/(2*a)\n",
    "    print(f\"Roots are : {r1} , {r2}\")\n",
    "else:\n",
    "    r1 = -b/(2*a)\n",
    "    r2 = math.sqrt(-d)/(2*a)\n",
    "    print(f\"Roots are : real part = {r1} , imaginary part =  {r2}\")"
   ]
  }
 ],
 "metadata": {
  "kernelspec": {
   "display_name": "Python 3 (ipykernel)",
   "language": "python",
   "name": "python3"
  },
  "language_info": {
   "codemirror_mode": {
    "name": "ipython",
    "version": 3
   },
   "file_extension": ".py",
   "mimetype": "text/x-python",
   "name": "python",
   "nbconvert_exporter": "python",
   "pygments_lexer": "ipython3",
   "version": "3.12.4"
  }
 },
 "nbformat": 4,
 "nbformat_minor": 5
}
